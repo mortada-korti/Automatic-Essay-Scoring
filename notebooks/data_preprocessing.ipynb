{
 "cells": [
  {
   "cell_type": "markdown",
   "id": "a3fccb5e-c06b-4c04-b6c9-44e22e1eab84",
   "metadata": {},
   "source": [
    "# Data_preprocessing.py script"
   ]
  },
  {
   "cell_type": "markdown",
   "id": "e35910a8-28bd-4d06-8856-eac17590cd6c",
   "metadata": {},
   "source": [
    "### Import Required Libraries"
   ]
  },
  {
   "cell_type": "code",
   "execution_count": null,
   "id": "59e6bc31-f21c-4c5c-93ac-b25d629f7853",
   "metadata": {},
   "outputs": [],
   "source": [
    "import pandas as pd  \n",
    "import warnings \n",
    "import sys, os "
   ]
  },
  {
   "cell_type": "markdown",
   "id": "25d6c2e2-365f-48a9-84ca-4f3d3ec79403",
   "metadata": {},
   "source": [
    "### Disable some warnings for cleaner output"
   ]
  },
  {
   "cell_type": "code",
   "execution_count": null,
   "id": "e38d9a22-dfed-4a90-8778-1e09b04aa9cc",
   "metadata": {},
   "outputs": [],
   "source": [
    "warnings.filterwarnings('ignore') "
   ]
  },
  {
   "cell_type": "markdown",
   "id": "b0b9f414-8950-49f2-865a-e51a87d11df4",
   "metadata": {},
   "source": [
    "### Setup Project Paths "
   ]
  },
  {
   "cell_type": "code",
   "execution_count": null,
   "id": "e20ebce1-2eb2-40bb-9b25-9f666bc14a70",
   "metadata": {},
   "outputs": [],
   "source": [
    "ROOT_DIR = os.path.abspath(os.path.join(os.getcwd(), \"..\", \"..\"))\n",
    "print(ROOT_DIR)\n",
    "sys.path.append(ROOT_DIR)  \n",
    "\n",
    "from config import DATA_DIR\n",
    "from utils import (\n",
    "    add_features,\n",
    "    normalize_score,\n",
    "    extract_length_features,\n",
    "    extract_readability_features,\n",
    "    extract_text_complexity_features,\n",
    "    extract_text_variation_features,\n",
    "    extract_sentiment_features\n",
    ")"
   ]
  },
  {
   "cell_type": "markdown",
   "id": "6108d5e0-a7fa-47c0-b04f-26dd81e00846",
   "metadata": {},
   "source": [
    "### Load the original raw dataset"
   ]
  },
  {
   "cell_type": "code",
   "execution_count": null,
   "id": "077f5839-8f9a-4828-9a10-ceb42b15be31",
   "metadata": {},
   "outputs": [],
   "source": [
    "dataset = pd.read_csv(f\"{ROOT_DIR}/dataset.tsv\", delimiter='\\t', encoding='ISO-8859-1')\n",
    "df = dataset[[\"essay_id\", \"essay_set\", \"essay\", \"domain1_score\"]]"
   ]
  },
  {
   "cell_type": "code",
   "execution_count": null,
   "id": "8a9c75d1-46dc-4812-b01b-021a90b48b84",
   "metadata": {},
   "outputs": [],
   "source": [
    "df = normalize_score(df)\n",
    "df = add_features(df, extract_length_features, \"len_\")\n",
    "df = add_features(df, extract_readability_features, \"read_\")\n",
    "df = add_features(df, extract_text_complexity_features, \"comp_\")\n",
    "df = add_features(df, extract_text_variation_features, \"var_\")\n",
    "df = add_features(df, extract_sentiment_features, \"sent_\")"
   ]
  },
  {
   "cell_type": "code",
   "execution_count": null,
   "id": "93444eba-bc91-4d65-b7e3-3778fe514abd",
   "metadata": {},
   "outputs": [],
   "source": [
    "df.to_csv(f\"{DATA_DIR}/dataset.tsv\", sep=\"\\t\", index=False)"
   ]
  }
 ],
 "metadata": {
  "kernelspec": {
   "display_name": "Python [conda env:aes_env]",
   "language": "python",
   "name": "conda-env-aes_env-py"
  },
  "language_info": {
   "codemirror_mode": {
    "name": "ipython",
    "version": 3
   },
   "file_extension": ".py",
   "mimetype": "text/x-python",
   "name": "python",
   "nbconvert_exporter": "python",
   "pygments_lexer": "ipython3",
   "version": "3.10.18"
  }
 },
 "nbformat": 4,
 "nbformat_minor": 5
}
